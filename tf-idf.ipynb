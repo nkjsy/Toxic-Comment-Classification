{
 "cells": [
  {
   "cell_type": "code",
   "execution_count": 1,
   "metadata": {},
   "outputs": [],
   "source": [
    "import numpy as np\n",
    "import pandas as pd\n",
    "import os\n",
    "from sklearn.feature_extraction.text import TfidfVectorizer\n",
    "from sklearn.linear_model import LogisticRegression\n",
    "from sklearn.ensemble import GradientBoostingClassifier\n",
    "from sklearn.model_selection import cross_val_score\n",
    "from scipy.sparse import hstack"
   ]
  },
  {
   "cell_type": "code",
   "execution_count": 2,
   "metadata": {},
   "outputs": [],
   "source": [
    "class_names = ['toxic', 'severe_toxic', 'obscene', 'threat', 'insult', 'identity_hate']\n",
    "\n",
    "train_file = os.path.join('.', 'train.csv')\n",
    "test_file = os.path.join('.', 'test.csv')"
   ]
  },
  {
   "cell_type": "code",
   "execution_count": 3,
   "metadata": {},
   "outputs": [],
   "source": [
    "train = pd.read_csv(train_file)\n",
    "test = pd.read_csv(test_file)\n",
    "\n",
    "train_text = train[\"comment_text\"].fillna(\"_na_\")\n",
    "test_text = test[\"comment_text\"].fillna(\"_na_\")\n",
    "all_text = pd.concat([train_text, test_text])"
   ]
  },
  {
   "cell_type": "code",
   "execution_count": 4,
   "metadata": {},
   "outputs": [],
   "source": [
    "word_vectorizer = TfidfVectorizer(\n",
    "    sublinear_tf=True,\n",
    "    strip_accents='unicode',\n",
    "    analyzer='word',\n",
    "    token_pattern=r'\\w{1,}',\n",
    "    stop_words='english',\n",
    "    ngram_range=(1, 1),\n",
    "    max_features=20000)\n",
    "word_vectorizer.fit(all_text)\n",
    "train_word_features = word_vectorizer.transform(train_text)\n",
    "test_word_features = word_vectorizer.transform(test_text)"
   ]
  },
  {
   "cell_type": "code",
   "execution_count": 7,
   "metadata": {},
   "outputs": [
    {
     "name": "stdout",
     "output_type": "stream",
     "text": [
      "Total CV score is 0.9735008430749542\n"
     ]
    }
   ],
   "source": [
    "# Logistic Regression\n",
    "scores = []\n",
    "submission = pd.read_csv('./sample_submission.csv')\n",
    "for c in class_names:\n",
    "    train_target = train[c]\n",
    "    clf = LogisticRegression(C=0.1, solver='sag')\n",
    "    clf.fit(train_word_features, train_target)\n",
    "    cv_score = np.mean(cross_val_score(clf, train_word_features, train_target, cv=5, scoring='roc_auc'))\n",
    "    scores.append(cv_score)\n",
    "    submission[c] = clf.predict_proba(test_word_features)[:, 1]\n",
    "    \n",
    "print ('Total CV score is {}'.format(np.mean(scores)))\n",
    "submission.to_csv('submission3.csv', index=False)"
   ]
  },
  {
   "cell_type": "code",
   "execution_count": null,
   "metadata": {},
   "outputs": [],
   "source": [
    "# GBDT\n",
    "scores = []\n",
    "submission = pd.read_csv('./sample_submission.csv')\n",
    "for c in class_names:\n",
    "    train_target = train[c]\n",
    "    clf = GradientBoostingClassifier()\n",
    "    clf.fit(train_word_features, train_target)\n",
    "    cv_score = np.mean(cross_val_score(clf, train_word_features, train_target, cv=5, scoring='roc_auc'))\n",
    "    scores.append(cv_score)\n",
    "    submission[c] = clf.predict_proba(test_word_features)[:, 1]\n",
    "    \n",
    "print ('Total CV score is {}'.format(np.mean(scores)))\n",
    "submission.to_csv('submission4.csv', index=False)"
   ]
  },
  {
   "cell_type": "code",
   "execution_count": null,
   "metadata": {},
   "outputs": [],
   "source": []
  }
 ],
 "metadata": {
  "kernelspec": {
   "display_name": "Python 3",
   "language": "python",
   "name": "python3"
  },
  "language_info": {
   "codemirror_mode": {
    "name": "ipython",
    "version": 3
   },
   "file_extension": ".py",
   "mimetype": "text/x-python",
   "name": "python",
   "nbconvert_exporter": "python",
   "pygments_lexer": "ipython3",
   "version": "3.6.4"
  }
 },
 "nbformat": 4,
 "nbformat_minor": 2
}
