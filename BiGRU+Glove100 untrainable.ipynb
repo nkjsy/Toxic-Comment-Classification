{
 "cells": [
  {
   "cell_type": "code",
   "execution_count": 1,
   "metadata": {},
   "outputs": [
    {
     "name": "stderr",
     "output_type": "stream",
     "text": [
      "C:\\ProgramData\\Anaconda3\\lib\\site-packages\\h5py\\__init__.py:36: FutureWarning: Conversion of the second argument of issubdtype from `float` to `np.floating` is deprecated. In future, it will be treated as `np.float64 == np.dtype(float).type`.\n",
      "  from ._conv import register_converters as _register_converters\n",
      "Using TensorFlow backend.\n"
     ]
    }
   ],
   "source": [
    "import sys, os, re, csv, codecs, numpy as np, pandas as pd\n",
    "os.environ['KERAS_BACKEND']='tensorflow'\n",
    "import keras\n",
    "from keras.preprocessing.text import Tokenizer\n",
    "from keras.preprocessing.sequence import pad_sequences\n",
    "from keras.layers import Dense, Input, LSTM, Embedding, Dropout, Activation, SpatialDropout1D, GRU\n",
    "from keras.layers import Bidirectional, GlobalMaxPool1D, MaxPool1D\n",
    "from keras.models import Model\n",
    "from keras import initializers, regularizers, constraints, optimizers, layers\n",
    "from keras.callbacks import ModelCheckpoint, EarlyStopping, Callback, ReduceLROnPlateau\n",
    "from sklearn.model_selection import train_test_split\n",
    "from sklearn.metrics import roc_auc_score\n",
    "from textblob import TextBlob"
   ]
  },
  {
   "cell_type": "code",
   "execution_count": 2,
   "metadata": {},
   "outputs": [],
   "source": [
    "embed_file = os.path.join('.', 'Glove', 'glove.6B.100d.txt')\n",
    "train_file = os.path.join('.', 'train.csv')\n",
    "test_file = os.path.join('.', 'test.csv')"
   ]
  },
  {
   "cell_type": "code",
   "execution_count": 3,
   "metadata": {},
   "outputs": [],
   "source": [
    "embed_size = 100 # how big is each word vector\n",
    "max_features = 20000 # how many unique words to use (i.e num rows in embedding vector)\n",
    "maxlen = 100 # max number of words in a comment to use"
   ]
  },
  {
   "cell_type": "code",
   "execution_count": 4,
   "metadata": {},
   "outputs": [],
   "source": [
    "train = pd.read_csv(train_file)\n",
    "test = pd.read_csv(test_file)\n",
    "\n",
    "list_sentences_train = train[\"comment_text\"].fillna(\"_na_\").values\n",
    "list_classes = [\"toxic\", \"severe_toxic\", \"obscene\", \"threat\", \"insult\", \"identity_hate\"]\n",
    "y = train[list_classes].values\n",
    "list_sentences_test = test[\"comment_text\"].fillna(\"_na_\").values"
   ]
  },
  {
   "cell_type": "code",
   "execution_count": 5,
   "metadata": {},
   "outputs": [],
   "source": [
    "tokenizer = Tokenizer(num_words=max_features)\n",
    "tokenizer.fit_on_texts(list(list_sentences_train))\n",
    "list_tokenized_train = tokenizer.texts_to_sequences(list_sentences_train)\n",
    "list_tokenized_test = tokenizer.texts_to_sequences(list_sentences_test)\n",
    "X_t = pad_sequences(list_tokenized_train, maxlen=maxlen)\n",
    "X_te = pad_sequences(list_tokenized_test, maxlen=maxlen)"
   ]
  },
  {
   "cell_type": "code",
   "execution_count": 6,
   "metadata": {},
   "outputs": [],
   "source": [
    "def get_coefs(word,*arr): return word, np.asarray(arr, dtype='float32')\n",
    "embeddings_index = dict(get_coefs(*o.strip().split()) for o in open(embed_file, encoding='utf-8'))"
   ]
  },
  {
   "cell_type": "code",
   "execution_count": 7,
   "metadata": {},
   "outputs": [
    {
     "data": {
      "text/plain": [
       "(0.004451992, 0.4081574)"
      ]
     },
     "execution_count": 7,
     "metadata": {},
     "output_type": "execute_result"
    }
   ],
   "source": [
    "all_embs = np.hstack(embeddings_index.values())\n",
    "emb_mean,emb_std = all_embs.mean(), all_embs.std()\n",
    "emb_mean,emb_std"
   ]
  },
  {
   "cell_type": "code",
   "execution_count": 8,
   "metadata": {},
   "outputs": [],
   "source": [
    "word_index = tokenizer.word_index\n",
    "nb_words = min(max_features, len(word_index))\n",
    "embedding_matrix = np.random.normal(emb_mean, emb_std, (nb_words, embed_size))\n",
    "for word, i in word_index.items():\n",
    "    if i >= max_features: break\n",
    "    embedding_vector = embeddings_index.get(word)\n",
    "    if embedding_vector is not None: embedding_matrix[i] = embedding_vector"
   ]
  },
  {
   "cell_type": "code",
   "execution_count": 9,
   "metadata": {},
   "outputs": [],
   "source": [
    "from keras import backend as K\n",
    "K.clear_session()"
   ]
  },
  {
   "cell_type": "code",
   "execution_count": 10,
   "metadata": {},
   "outputs": [],
   "source": [
    "inp = Input(shape=(maxlen,))\n",
    "x = Embedding(max_features, embed_size, weights=[embedding_matrix], trainable = False)(inp)\n",
    "#x = SpatialDropout1D(0.4)(x)\n",
    "\n",
    "x = Bidirectional(GRU(64, return_sequences=True, dropout=0.1, recurrent_dropout=0.1))(x)\n",
    "#maxpool = GlobalMaxPool1D()(x)\n",
    "#avgpool = GlobalAveragePool1D()(x)\n",
    "x = GlobalMaxPool1D()(x)\n",
    "x = Dense(64, activation=\"relu\")(x)\n",
    "x = Dropout(0.3)(x)\n",
    "x = Dense(6, activation=\"sigmoid\")(x)\n",
    "model = Model(inputs=inp, outputs=x)\n",
    "model.compile(loss='binary_crossentropy', optimizer='adam', metrics=['accuracy'])"
   ]
  },
  {
   "cell_type": "code",
   "execution_count": 11,
   "metadata": {},
   "outputs": [
    {
     "name": "stderr",
     "output_type": "stream",
     "text": [
      "C:\\ProgramData\\Anaconda3\\lib\\site-packages\\sklearn\\model_selection\\_split.py:2026: FutureWarning: From version 0.21, test_size will always complement train_size unless both are specified.\n",
      "  FutureWarning)\n"
     ]
    }
   ],
   "source": [
    "class RocAucEvaluation(Callback):\n",
    "    def __init__(self, validation_data=()):\n",
    "        super(Callback, self).__init__()\n",
    "        self.X_val, self.y_val = validation_data\n",
    "\n",
    "    def on_epoch_end(self, epoch, logs={}):\n",
    "        y_pred = self.model.predict(self.X_val, verbose=0)\n",
    "        score = roc_auc_score(self.y_val, y_pred)\n",
    "        print(\"\\n ROC-AUC - epoch: %d - score: %.6f \\n\" % (epoch+1, score))\n",
    "\n",
    "X_tra, X_val, y_tra, y_val = train_test_split(X_t, y, train_size=0.95, random_state=8)\n",
    "RocAuc = RocAucEvaluation(validation_data=(X_val, y_val))"
   ]
  },
  {
   "cell_type": "code",
   "execution_count": 12,
   "metadata": {},
   "outputs": [
    {
     "name": "stdout",
     "output_type": "stream",
     "text": [
      "Train on 151592 samples, validate on 7979 samples\n",
      "Epoch 1/10\n",
      "151592/151592 [==============================] - 422s 3ms/step - loss: 0.0794 - acc: 0.9734 - val_loss: 0.0514 - val_acc: 0.9817\n",
      "\n",
      " ROC-AUC - epoch: 1 - score: 0.973754 \n",
      "\n",
      "Epoch 2/10\n",
      "151592/151592 [==============================] - 626s 4ms/step - loss: 0.0547 - acc: 0.9806 - val_loss: 0.0487 - val_acc: 0.9824\n",
      "\n",
      " ROC-AUC - epoch: 2 - score: 0.978286 \n",
      "\n",
      "Epoch 3/10\n",
      "151592/151592 [==============================] - 664s 4ms/step - loss: 0.0508 - acc: 0.9817 - val_loss: 0.0485 - val_acc: 0.9820\n",
      "\n",
      " ROC-AUC - epoch: 3 - score: 0.980546 \n",
      "\n",
      "Epoch 4/10\n",
      "151592/151592 [==============================] - 649s 4ms/step - loss: 0.0485 - acc: 0.9823 - val_loss: 0.0456 - val_acc: 0.9832\n",
      "\n",
      " ROC-AUC - epoch: 4 - score: 0.983334 \n",
      "\n",
      "Epoch 5/10\n",
      "151592/151592 [==============================] - 637s 4ms/step - loss: 0.0467 - acc: 0.9827 - val_loss: 0.0456 - val_acc: 0.9830\n",
      "\n",
      " ROC-AUC - epoch: 5 - score: 0.984756 \n",
      "\n",
      "Epoch 6/10\n",
      "151592/151592 [==============================] - 635s 4ms/step - loss: 0.0441 - acc: 0.9835 - val_loss: 0.0441 - val_acc: 0.9834\n",
      "\n",
      " ROC-AUC - epoch: 6 - score: 0.984830 \n",
      "\n",
      "Epoch 7/10\n",
      "151592/151592 [==============================] - 633s 4ms/step - loss: 0.0434 - acc: 0.9837 - val_loss: 0.0439 - val_acc: 0.9834\n",
      "\n",
      " ROC-AUC - epoch: 7 - score: 0.984973 \n",
      "\n",
      "Epoch 8/10\n",
      "151592/151592 [==============================] - 632s 4ms/step - loss: 0.0431 - acc: 0.9838 - val_loss: 0.0438 - val_acc: 0.9836\n",
      "\n",
      " ROC-AUC - epoch: 8 - score: 0.985001 \n",
      "\n",
      "Epoch 9/10\n",
      "151592/151592 [==============================] - 655s 4ms/step - loss: 0.0428 - acc: 0.9839 - val_loss: 0.0437 - val_acc: 0.9835\n",
      "\n",
      " ROC-AUC - epoch: 9 - score: 0.985063 \n",
      "\n",
      "Epoch 10/10\n",
      "151592/151592 [==============================] - 665s 4ms/step - loss: 0.0425 - acc: 0.9839 - val_loss: 0.0437 - val_acc: 0.9836\n",
      "\n",
      " ROC-AUC - epoch: 10 - score: 0.985104 \n",
      "\n"
     ]
    }
   ],
   "source": [
    "cp = ModelCheckpoint(filepath=\"my_model9.h5\", save_best_only=True)\n",
    "es = EarlyStopping(patience=1)\n",
    "rp = ReduceLROnPlateau(patience = 0)\n",
    "hist = model.fit(X_tra, y_tra, batch_size = 128, epochs=10, validation_data=(X_val, y_val), callbacks=[cp, es, rp, RocAuc])"
   ]
  },
  {
   "cell_type": "code",
   "execution_count": 13,
   "metadata": {},
   "outputs": [
    {
     "name": "stdout",
     "output_type": "stream",
     "text": [
      "{'val_loss': [0.05142849406430799, 0.04870850905759216, 0.048533214863820666, 0.04558471846974931, 0.04556233950752052, 0.04413640018781783, 0.04391671719781467, 0.04384744982885857, 0.043740150762547045, 0.04373771577012735], 'val_acc': [0.9817228649908296, 0.9824330622965508, 0.9820152977188513, 0.9832268096791397, 0.9830179277003028, 0.9834356942053113, 0.9833521409087916, 0.9836236876807336, 0.9835401391651356, 0.9835819167770499], 'loss': [0.07939267884054246, 0.0547254481484339, 0.05082375312727217, 0.04848234732991895, 0.04672780349486756, 0.04408237884346335, 0.04338322656336381, 0.0430824499104668, 0.04278073498455382, 0.04252637557921683], 'acc': [0.9733550222236202, 0.9806432237888844, 0.981714080582131, 0.9822594051411664, 0.9826716961687778, 0.983469890956168, 0.9836776855627436, 0.9838096194169385, 0.9838689878796064, 0.983914064382134], 'lr': [0.001, 0.001, 0.001, 0.001, 0.001, 0.000100000005, 0.000100000005, 0.000100000005, 1.0000001e-05, 1.0000001e-05]}\n"
     ]
    },
    {
     "data": {
      "text/plain": [
       "[<matplotlib.lines.Line2D at 0x5a8c6b38>]"
      ]
     },
     "execution_count": 13,
     "metadata": {},
     "output_type": "execute_result"
    },
    {
     "data": {
      "image/png": "[encoded data removed]",
      "text/plain": [
       "<matplotlib.figure.Figure at 0x52b1ceb8>"
      ]
     },
     "metadata": {},
     "output_type": "display_data"
    }
   ],
   "source": [
    "print (hist.history)\n",
    "from matplotlib import pyplot as plt\n",
    "%matplotlib inline\n",
    "plt.figure(1)\n",
    "plt.plot (hist.history['loss'])\n",
    "plt.plot (hist.history['val_loss'])\n",
    "#plt.plot (hist.history['RocAus'])"
   ]
  },
  {
   "cell_type": "code",
   "execution_count": 14,
   "metadata": {},
   "outputs": [],
   "source": [
    "y_pred = model.predict(X_te, batch_size=512)\n",
    "submission = pd.read_csv('./sample_submission.csv')\n",
    "submission[[\"toxic\", \"severe_toxic\", \"obscene\", \"threat\", \"insult\", \"identity_hate\"]] = y_pred\n",
    "submission.to_csv('submission9.csv', index=False)"
   ]
  },
  {
   "cell_type": "code",
   "execution_count": null,
   "metadata": {},
   "outputs": [],
   "source": []
  }
 ],
 "metadata": {
  "kernelspec": {
   "display_name": "Python 3",
   "language": "python",
   "name": "python3"
  },
  "language_info": {
   "codemirror_mode": {
    "name": "ipython",
    "version": 3
   },
   "file_extension": ".py",
   "mimetype": "text/x-python",
   "name": "python",
   "nbconvert_exporter": "python",
   "pygments_lexer": "ipython3",
   "version": "3.6.4"
  }
 },
 "nbformat": 4,
 "nbformat_minor": 2
}
