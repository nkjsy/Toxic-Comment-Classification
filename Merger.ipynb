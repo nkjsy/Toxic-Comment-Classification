{
 "cells": [
  {
   "cell_type": "code",
   "execution_count": 1,
   "metadata": {},
   "outputs": [],
   "source": [
    "import numpy as np\n",
    "import pandas as pd\n",
    "import os"
   ]
  },
  {
   "cell_type": "code",
   "execution_count": 3,
   "metadata": {},
   "outputs": [],
   "source": [
    "sum = pd.read_csv('sample_submission.csv')\n",
    "id = sum['id']\n",
    "sum = sum[['toxic', 'severe_toxic', 'obscene', 'threat', 'insult', 'identity_hate']] - 0.5\n",
    "for i in [10,11]:\n",
    "    result = pd.read_csv('submission%d.csv'%i)\n",
    "    sum += result\n",
    "sum /= 2.0\n",
    "#sum = np.clip(sum, 0.005, 0.995)\n",
    "sum.insert(0, 'id', pd.Series(id, index=sum.index))\n",
    "sum.to_csv('f_submission.csv', index=False)"
   ]
  },
  {
   "cell_type": "code",
   "execution_count": null,
   "metadata": {},
   "outputs": [],
   "source": []
  }
 ],
 "metadata": {
  "kernelspec": {
   "display_name": "Python 3",
   "language": "python",
   "name": "python3"
  },
  "language_info": {
   "codemirror_mode": {
    "name": "ipython",
    "version": 3
   },
   "file_extension": ".py",
   "mimetype": "text/x-python",
   "name": "python",
   "nbconvert_exporter": "python",
   "pygments_lexer": "ipython3",
   "version": "3.6.4"
  }
 },
 "nbformat": 4,
 "nbformat_minor": 2
}
