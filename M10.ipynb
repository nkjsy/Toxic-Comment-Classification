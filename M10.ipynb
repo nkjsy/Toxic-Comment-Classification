{
 "cells": [
  {
   "cell_type": "code",
   "execution_count": 1,
   "metadata": {},
   "outputs": [
    {
     "name": "stderr",
     "output_type": "stream",
     "text": [
      "C:\\ProgramData\\Anaconda3\\lib\\site-packages\\h5py\\__init__.py:36: FutureWarning: Conversion of the second argument of issubdtype from `float` to `np.floating` is deprecated. In future, it will be treated as `np.float64 == np.dtype(float).type`.\n",
      "  from ._conv import register_converters as _register_converters\n",
      "Using TensorFlow backend.\n"
     ]
    }
   ],
   "source": [
    "import sys, os, re, csv, codecs, numpy as np, pandas as pd\n",
    "os.environ['KERAS_BACKEND']='tensorflow'\n",
    "import keras\n",
    "from keras.preprocessing.text import Tokenizer\n",
    "from keras.preprocessing.sequence import pad_sequences\n",
    "from keras.layers import Dense, Input, LSTM, Embedding, Dropout, Activation, SpatialDropout1D, GRU\n",
    "from keras.layers.merge import concatenate\n",
    "from keras.layers import Bidirectional, GlobalMaxPooling1D, GlobalAveragePooling1D\n",
    "from keras.models import Model\n",
    "from keras import initializers, regularizers, constraints, optimizers, layers\n",
    "from keras.callbacks import ModelCheckpoint, EarlyStopping, Callback, ReduceLROnPlateau\n",
    "from sklearn.model_selection import train_test_split\n",
    "from sklearn.metrics import roc_auc_score"
   ]
  },
  {
   "cell_type": "code",
   "execution_count": 2,
   "metadata": {},
   "outputs": [],
   "source": [
    "embed_file1 = os.path.join('.', 'Glove', 'glove.6B.200d.txt')\n",
    "embed_file2 = os.path.join('.', 'fasttext', 'wiki-news-300d-1M.vec')\n",
    "train_file = os.path.join('.', 'train.csv')\n",
    "test_file = os.path.join('.', 'test.csv')"
   ]
  },
  {
   "cell_type": "code",
   "execution_count": 3,
   "metadata": {},
   "outputs": [],
   "source": [
    "embed_size1 = 200 # how big is each word vector\n",
    "embed_size2 = 300 # how big is each word vector\n",
    "max_features = 20000 # how many unique words to use (i.e num rows in embedding vector)\n",
    "maxlen = 100 # max number of words in a comment to use"
   ]
  },
  {
   "cell_type": "code",
   "execution_count": 4,
   "metadata": {},
   "outputs": [],
   "source": [
    "train = pd.read_csv(train_file)\n",
    "test = pd.read_csv(test_file)\n",
    "\n",
    "list_sentences_train = train[\"comment_text\"].fillna(\"_na_\").values\n",
    "list_classes = [\"toxic\", \"severe_toxic\", \"obscene\", \"threat\", \"insult\", \"identity_hate\"]\n",
    "y = train[list_classes].values\n",
    "list_sentences_test = test[\"comment_text\"].fillna(\"_na_\").values"
   ]
  },
  {
   "cell_type": "code",
   "execution_count": 5,
   "metadata": {},
   "outputs": [],
   "source": [
    "tokenizer = Tokenizer(num_words=max_features)\n",
    "tokenizer.fit_on_texts(list(list_sentences_train))\n",
    "list_tokenized_train = tokenizer.texts_to_sequences(list_sentences_train)\n",
    "list_tokenized_test = tokenizer.texts_to_sequences(list_sentences_test)\n",
    "X_t = pad_sequences(list_tokenized_train, maxlen=maxlen)\n",
    "X_te = pad_sequences(list_tokenized_test, maxlen=maxlen)"
   ]
  },
  {
   "cell_type": "code",
   "execution_count": 6,
   "metadata": {},
   "outputs": [],
   "source": [
    "def get_coefs(word,*arr): return word, np.asarray(arr, dtype='float32')\n",
    "embeddings_index1 = dict(get_coefs(*o.strip().split()) for o in open(embed_file1, encoding='utf-8'))\n",
    "embeddings_index2 = dict(get_coefs(*o.rstrip().rsplit(' ')) for o in open(embed_file2, encoding = 'utf-8'))"
   ]
  },
  {
   "cell_type": "code",
   "execution_count": 7,
   "metadata": {},
   "outputs": [
    {
     "data": {
      "text/plain": [
       "(-0.008671864, 0.38186216)"
      ]
     },
     "execution_count": 7,
     "metadata": {},
     "output_type": "execute_result"
    }
   ],
   "source": [
    "all_embs1 = np.hstack(embeddings_index1.values())\n",
    "emb_mean1,emb_std1 = all_embs1.mean(), all_embs1.std()\n",
    "emb_mean1,emb_std1"
   ]
  },
  {
   "cell_type": "code",
   "execution_count": 8,
   "metadata": {},
   "outputs": [
    {
     "data": {
      "text/plain": [
       "(-0.0033459952, 0.1112124)"
      ]
     },
     "execution_count": 8,
     "metadata": {},
     "output_type": "execute_result"
    }
   ],
   "source": [
    "all_embs2 = np.hstack(embeddings_index2.values())\n",
    "emb_mean2,emb_std2 = all_embs2.mean(), all_embs2.std()\n",
    "emb_mean2,emb_std2"
   ]
  },
  {
   "cell_type": "code",
   "execution_count": 9,
   "metadata": {},
   "outputs": [],
   "source": [
    "word_index = tokenizer.word_index\n",
    "nb_words = min(max_features, len(word_index))\n",
    "embedding_matrix1 = np.random.normal(emb_mean1, emb_std1, (nb_words, embed_size1))\n",
    "embedding_matrix2 = np.random.normal(emb_mean2, emb_std2, (nb_words, embed_size2))\n",
    "\n",
    "for word, i in word_index.items():\n",
    "    if i >= max_features: break\n",
    "    embedding_vector1 = embeddings_index1.get(word)\n",
    "    if embedding_vector1 is not None: embedding_matrix1[i] = embedding_vector1\n",
    "        \n",
    "for word, i in word_index.items():\n",
    "    if i >= max_features: break\n",
    "    embedding_vector2 = embeddings_index2.get(word)\n",
    "    if embedding_vector2 is not None: embedding_matrix2[i] = embedding_vector2"
   ]
  },
  {
   "cell_type": "code",
   "execution_count": 10,
   "metadata": {},
   "outputs": [],
   "source": [
    "from keras import backend as K\n",
    "K.clear_session()"
   ]
  },
  {
   "cell_type": "code",
   "execution_count": 11,
   "metadata": {},
   "outputs": [],
   "source": [
    "inp = Input(shape=(maxlen,))\n",
    "x1 = Embedding(max_features, embed_size1, weights=[embedding_matrix1], trainable = False)(inp)\n",
    "x2 = Embedding(max_features, embed_size2, weights=[embedding_matrix2], trainable = False)(inp)\n",
    "x = concatenate([x1,x2])\n",
    "x = SpatialDropout1D(0.4)(x)\n",
    "\n",
    "x = Bidirectional(LSTM(64, return_sequences=True, dropout=0.1, recurrent_dropout=0.1))(x)\n",
    "x, h, _ = Bidirectional(GRU(64, return_sequences=True, return_state=True, dropout=0.1, recurrent_dropout=0.1))(x)\n",
    "gmp = GlobalMaxPooling1D()(x)\n",
    "gap = GlobalAveragePooling1D()(x)\n",
    "conc = concatenate([h, gmp, gap])\n",
    "x = Dense(64, activation=\"relu\")(conc)\n",
    "x = Dropout(0.3)(x)\n",
    "x = Dense(6, activation=\"sigmoid\")(x)\n",
    "model = Model(inputs=inp, outputs=x)\n",
    "adam = optimizers.Adam(clipnorm=6.0)\n",
    "model.compile(loss='binary_crossentropy', optimizer='adam', metrics=['accuracy'])"
   ]
  },
  {
   "cell_type": "code",
   "execution_count": 12,
   "metadata": {},
   "outputs": [
    {
     "name": "stderr",
     "output_type": "stream",
     "text": [
      "C:\\ProgramData\\Anaconda3\\lib\\site-packages\\sklearn\\model_selection\\_split.py:2026: FutureWarning: From version 0.21, test_size will always complement train_size unless both are specified.\n",
      "  FutureWarning)\n"
     ]
    }
   ],
   "source": [
    "class RocAucEvaluation(Callback):\n",
    "    def __init__(self, validation_data=()):\n",
    "        super(Callback, self).__init__()\n",
    "        self.X_val, self.y_val = validation_data\n",
    "\n",
    "    def on_epoch_end(self, epoch, logs={}):\n",
    "        y_pred = self.model.predict(self.X_val, verbose=0)\n",
    "        score = roc_auc_score(self.y_val, y_pred)\n",
    "        print(\"\\n ROC-AUC - epoch: %d - score: %.6f \\n\" % (epoch+1, score))\n",
    "\n",
    "X_tra, X_val, y_tra, y_val = train_test_split(X_t, y, train_size=0.95, random_state=8)\n",
    "RocAuc = RocAucEvaluation(validation_data=(X_val, y_val))"
   ]
  },
  {
   "cell_type": "code",
   "execution_count": 13,
   "metadata": {},
   "outputs": [
    {
     "name": "stdout",
     "output_type": "stream",
     "text": [
      "Train on 151592 samples, validate on 7979 samples\n",
      "Epoch 1/10\n",
      "151592/151592 [==============================] - 2513s 17ms/step - loss: 0.0631 - acc: 0.9787 - val_loss: 0.0473 - val_acc: 0.9829\n",
      "\n",
      " ROC-AUC - epoch: 1 - score: 0.978672 \n",
      "\n",
      "Epoch 2/10\n",
      "151592/151592 [==============================] - 2623s 17ms/step - loss: 0.0505 - acc: 0.9816 - val_loss: 0.0439 - val_acc: 0.9833\n",
      "\n",
      " ROC-AUC - epoch: 2 - score: 0.983510 \n",
      "\n",
      "Epoch 3/10\n",
      "151592/151592 [==============================] - 2605s 17ms/step - loss: 0.0473 - acc: 0.9825 - val_loss: 0.0419 - val_acc: 0.9838\n",
      "\n",
      " ROC-AUC - epoch: 3 - score: 0.986052 \n",
      "\n",
      "Epoch 4/10\n",
      "151592/151592 [==============================] - 2515s 17ms/step - loss: 0.0453 - acc: 0.9830 - val_loss: 0.0414 - val_acc: 0.9845\n",
      "\n",
      " ROC-AUC - epoch: 4 - score: 0.987478 \n",
      "\n",
      "Epoch 5/10\n",
      "151592/151592 [==============================] - 2648s 17ms/step - loss: 0.0438 - acc: 0.9835 - val_loss: 0.0408 - val_acc: 0.9839\n",
      "\n",
      " ROC-AUC - epoch: 5 - score: 0.986577 \n",
      "\n",
      "Epoch 6/10\n",
      "151592/151592 [==============================] - 2657s 18ms/step - loss: 0.0428 - acc: 0.9838 - val_loss: 0.0424 - val_acc: 0.9843\n",
      "\n",
      " ROC-AUC - epoch: 6 - score: 0.987015 \n",
      "\n"
     ]
    }
   ],
   "source": [
    "cp = ModelCheckpoint(filepath=\"my_model10.h5\", save_best_only=True)\n",
    "es = EarlyStopping(patience=1)\n",
    "rp = ReduceLROnPlateau(patience = 0)\n",
    "hist = model.fit(X_tra, y_tra, batch_size = 64, epochs=10, validation_data=(X_val, y_val), callbacks=[cp, es, rp, RocAuc])"
   ]
  },
  {
   "cell_type": "code",
   "execution_count": 14,
   "metadata": {},
   "outputs": [
    {
     "name": "stdout",
     "output_type": "stream",
     "text": [
      "{'val_loss': [0.04725263059337212, 0.043892516594308706, 0.04193341837074691, 0.041413443243575286, 0.04079706032542989, 0.04239397850165407], 'val_acc': [0.9829343605316407, 0.9833312353509338, 0.9837698863329244, 0.9845218621918037, 0.9838952248833625, 0.9842503125513089], 'loss': [0.06313926813189864, 0.05047885447628889, 0.04730905911506411, 0.04531646312137123, 0.04383396750174573, 0.042764303470016175], 'acc': [0.9787400770806418, 0.9816239143469773, 0.9825111649440168, 0.9830366972694485, 0.983473174782364, 0.9837810191650669], 'lr': [0.001, 0.001, 0.001, 0.001, 0.001, 0.001]}\n"
     ]
    },
    {
     "data": {
      "text/plain": [
       "[<matplotlib.lines.Line2D at 0x115bc5c50>]"
      ]
     },
     "execution_count": 14,
     "metadata": {},
     "output_type": "execute_result"
    },
    {
     "data": {
      "image/png": "[encoded data removed]",
      "text/plain": [
       "<matplotlib.figure.Figure at 0x2b3046d8>"
      ]
     },
     "metadata": {},
     "output_type": "display_data"
    }
   ],
   "source": [
    "print (hist.history)\n",
    "from matplotlib import pyplot as plt\n",
    "%matplotlib inline\n",
    "plt.figure(1)\n",
    "plt.plot (hist.history['loss'])\n",
    "plt.plot (hist.history['val_loss'])\n",
    "#plt.plot (hist.history['RocAus'])"
   ]
  },
  {
   "cell_type": "code",
   "execution_count": 15,
   "metadata": {},
   "outputs": [],
   "source": [
    "y_pred = model.predict(X_te, batch_size=256)\n",
    "submission = pd.read_csv('./sample_submission.csv')\n",
    "submission[[\"toxic\", \"severe_toxic\", \"obscene\", \"threat\", \"insult\", \"identity_hate\"]] = y_pred\n",
    "submission.to_csv('submission10.csv', index=False)"
   ]
  },
  {
   "cell_type": "code",
   "execution_count": null,
   "metadata": {},
   "outputs": [],
   "source": []
  }
 ],
 "metadata": {
  "kernelspec": {
   "display_name": "Python 3",
   "language": "python",
   "name": "python3"
  },
  "language_info": {
   "codemirror_mode": {
    "name": "ipython",
    "version": 3
   },
   "file_extension": ".py",
   "mimetype": "text/x-python",
   "name": "python",
   "nbconvert_exporter": "python",
   "pygments_lexer": "ipython3",
   "version": "3.6.4"
  }
 },
 "nbformat": 4,
 "nbformat_minor": 2
}
